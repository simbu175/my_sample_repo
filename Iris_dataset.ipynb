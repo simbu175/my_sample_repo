{
 "cells": [
  {
   "cell_type": "code",
   "execution_count": 2,
   "metadata": {},
   "outputs": [
    {
     "name": "stdout",
     "output_type": "stream",
     "text": [
      "<class 'numpy.ndarray'>\n",
      "[[1 2 3]\n",
      " [2 3 4]]\n",
      "(2, 3)\n",
      "(3,)\n",
      "[10 11 12 13 14 15 16 17 18 19]\n",
      "[2 3] (2,)\n",
      "[[1. 1.]\n",
      " [1. 1.]\n",
      " [1. 1.]]\n",
      "[[1. 0. 0.]\n",
      " [0. 1. 0.]\n",
      " [0. 0. 1.]]\n",
      "[[8 8 8 8]\n",
      " [8 8 8 8]\n",
      " [8 8 8 8]]\n",
      "<built-in function any>\n"
     ]
    },
    {
     "data": {
      "image/png": "[encoded data removed]",
      "text/plain": [
       "<Figure size 432x288 with 1 Axes>"
      ]
     },
     "metadata": {
      "needs_background": "light"
     },
     "output_type": "display_data"
    }
   ],
   "source": [
    "import numpy as np\n",
    "import matplotlib.pyplot as plt\n",
    "array = np.array([[1,2,3],[2,3,4]])\n",
    "array2 = np.array([1,2,3])\n",
    "print (type(array))\n",
    "print (array)\n",
    "print (array.shape)\n",
    "print (array2.shape)\n",
    "x = np.arange(10, 20)\n",
    "y = np.arange(5,15)\n",
    "print (x)\n",
    "array[1,1]\n",
    "array[:,1]\n",
    "array[:,-1]\n",
    "array[0,:]\n",
    "rep = array[:,1]\n",
    "print (rep, rep.shape)\n",
    "ones = np.ones((3,2))\n",
    "iden = np.identity(3)\n",
    "full = np.full((3,4),8)\n",
    "#any = np.any((3,5))\n",
    "print (ones)\n",
    "print (iden)\n",
    "print (full)\n",
    "print (any)\n",
    "\n",
    "plt.plot(x,y,'r.-',label='y ~ x')\n",
    "plt.legend()\n",
    "plt.xlabel('X units')\n",
    "plt.ylabel('Y units')\n",
    "plt.xticks([10,14,18])\n",
    "plt.show()"
   ]
  },
  {
   "cell_type": "code",
   "execution_count": 5,
   "metadata": {},
   "outputs": [
    {
     "name": "stdout",
     "output_type": "stream",
     "text": [
      "<pandas.core.groupby.generic.DataFrameGroupBy object at 0x000001CE8822AFD0>\n"
     ]
    }
   ],
   "source": [
    "import pandas as pd\n",
    "pd = pd.read_csv(\"D:\\Anaconda\\pkgs\\scikit-learn-0.21.3-py37h6288b17_0\\Lib\\site-packages\\sklearn\\datasets\\data\\iris.csv\")\n",
    "#print(pd.tail())\n",
    "#pd.describe()\n",
    "pd1 = pd.groupby('setosa')\n",
    "print (pd1)"
   ]
  },
  {
   "cell_type": "code",
   "execution_count": null,
   "metadata": {},
   "outputs": [],
   "source": []
  }
 ],
 "metadata": {
  "kernelspec": {
   "display_name": "Python 3",
   "language": "python",
   "name": "python3"
  },
  "language_info": {
   "codemirror_mode": {
    "name": "ipython",
    "version": 3
   },
   "file_extension": ".py",
   "mimetype": "text/x-python",
   "name": "python",
   "nbconvert_exporter": "python",
   "pygments_lexer": "ipython3",
   "version": "3.7.3"
  }
 },
 "nbformat": 4,
 "nbformat_minor": 2
}
